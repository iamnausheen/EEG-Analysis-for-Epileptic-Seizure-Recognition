{
 "cells": [
  {
   "cell_type": "code",
   "execution_count": 1,
   "id": "9f316e32-2e45-4eea-a653-c65407b82487",
   "metadata": {},
   "outputs": [],
   "source": [
    "import eeg_dataloader as edl\n",
    "import numpy as np"
   ]
  },
  {
   "cell_type": "code",
   "execution_count": null,
   "id": "611c1f44-97fa-44f1-8563-b710b50a243e",
   "metadata": {},
   "outputs": [],
   "source": [
    "# For Multi-class Classification"
   ]
  },
  {
   "cell_type": "code",
   "execution_count": null,
   "id": "718af2d0-f5f8-4fd7-98d5-549016fbf868",
   "metadata": {},
   "outputs": [],
   "source": [
    "# restructure_data - returns training_data, validation_data and testing_data"
   ]
  },
  {
   "cell_type": "code",
   "execution_count": 35,
   "id": "849724ab-6cba-4fad-9b68-31930f882a84",
   "metadata": {},
   "outputs": [],
   "source": [
    "training_data, validation_data, testing_data = edl.restructure_data()"
   ]
  },
  {
   "cell_type": "code",
   "execution_count": 37,
   "id": "7e642b4c-0c68-4138-bf85-b6c2530dda2a",
   "metadata": {},
   "outputs": [
    {
     "name": "stdout",
     "output_type": "stream",
     "text": [
      "<class 'list'> <class 'list'> <class 'list'>\n",
      "7000 1500 3000\n"
     ]
    }
   ],
   "source": [
    "print(type(training_data), type(validation_data), type(testing_data))\n",
    "print(len(training_data), len(validation_data), len(testing_data))"
   ]
  },
  {
   "cell_type": "code",
   "execution_count": 39,
   "id": "fbe6b893-49a2-4568-a2c5-d54940df4524",
   "metadata": {},
   "outputs": [
    {
     "name": "stdout",
     "output_type": "stream",
     "text": [
      "<class 'tuple'> <class 'tuple'> <class 'tuple'>\n",
      "2 2 2\n"
     ]
    }
   ],
   "source": [
    "print(type(training_data[0]), type(validation_data[0]), type(testing_data[0]))\n",
    "print(len(training_data[0]), len(validation_data[0]), len(testing_data[0]))"
   ]
  },
  {
   "cell_type": "code",
   "execution_count": 41,
   "id": "ccb9fa3b-fe63-4e0c-9a70-e5ccb4b0e6c4",
   "metadata": {},
   "outputs": [
    {
     "name": "stdout",
     "output_type": "stream",
     "text": [
      "<class 'numpy.ndarray'> <class 'numpy.ndarray'> <class 'numpy.ndarray'>\n",
      "<class 'numpy.ndarray'> <class 'numpy.int64'> <class 'numpy.int64'>\n"
     ]
    }
   ],
   "source": [
    "print(type(training_data[0][0]), type(validation_data[0][0]), type(testing_data[0][0]))\n",
    "print(type(training_data[0][1]), type(validation_data[0][1]), type(testing_data[0][1]))"
   ]
  },
  {
   "cell_type": "code",
   "execution_count": 43,
   "id": "5d495677-9bef-42d3-bde1-092aba611707",
   "metadata": {},
   "outputs": [
    {
     "name": "stdout",
     "output_type": "stream",
     "text": [
      "(178, 1) (178, 1) (178, 1)\n",
      "(5, 1) () ()\n"
     ]
    }
   ],
   "source": [
    "print(training_data[0][0].shape, validation_data[0][0].shape, testing_data[0][0].shape)\n",
    "print(training_data[0][1].shape, validation_data[0][1].shape, testing_data[0][1].shape)"
   ]
  },
  {
   "cell_type": "code",
   "execution_count": null,
   "id": "5c81dd14-565a-4d94-873a-569ac3ca711d",
   "metadata": {},
   "outputs": [],
   "source": [
    "# Each training, validation, testing data \n",
    "# - is a list of 7000, 1500, 3000 instances, each instance is in the form of a tuple respectively\n",
    "# Training_data tuple contains 2 numpy nd arrays\n",
    "# First array is of shape (178, 1) containing EEG signal values\n",
    "# Second array is of shape(5, 1) representing the category of the first array. It has value 1 at index=(class-1) and 0 for the rest.\n",
    "# Testing and validation data tuple contains 1 numpy nd array same as first array in training data and 1 integer value = value of class."
   ]
  },
  {
   "cell_type": "code",
   "execution_count": null,
   "id": "31889718-5285-407f-9aed-872457d85545",
   "metadata": {},
   "outputs": [],
   "source": [
    "# restructure_for_ML"
   ]
  },
  {
   "cell_type": "code",
   "execution_count": 51,
   "id": "61bbb1cf-ced2-404e-9c9e-1393b0984d7f",
   "metadata": {},
   "outputs": [],
   "source": [
    "x_train, y_train, x_val, y_val = edl.restructure_for_ML()"
   ]
  },
  {
   "cell_type": "code",
   "execution_count": 53,
   "id": "8ef858bb-495b-48ca-bbd3-8158219e4620",
   "metadata": {},
   "outputs": [
    {
     "name": "stdout",
     "output_type": "stream",
     "text": [
      "<class 'numpy.ndarray'> <class 'numpy.ndarray'> <class 'numpy.ndarray'> <class 'numpy.ndarray'>\n",
      "(7000, 178) (7000,) (3000, 178) (3000,)\n"
     ]
    }
   ],
   "source": [
    "print(type(x_train), type(y_train), type(x_val), type(y_val))\n",
    "print(x_train.shape, y_train.shape, x_val.shape, y_val.shape)"
   ]
  },
  {
   "cell_type": "code",
   "execution_count": 55,
   "id": "71cbc1b3-de28-4def-a442-d7031f596a2d",
   "metadata": {},
   "outputs": [],
   "source": [
    "# x_train - numpy nd array containing training inputs\n",
    "# y_train - numpy nd array containing classes corresponding to each input\n",
    "# x_test, y_test - same as x_train, y_train"
   ]
  },
  {
   "cell_type": "code",
   "execution_count": 57,
   "id": "1135401c-5981-496e-a81d-9d04ca7566ac",
   "metadata": {},
   "outputs": [],
   "source": [
    "# scaled_NN - returns scaled version of training_data and testing_data"
   ]
  },
  {
   "cell_type": "code",
   "execution_count": 59,
   "id": "11187ded-ae8b-4ea4-9c09-0a8d78ff5002",
   "metadata": {},
   "outputs": [],
   "source": [
    "training_dataS, testing_dataS = edl.scaled_NN()"
   ]
  },
  {
   "cell_type": "code",
   "execution_count": 61,
   "id": "e9dc6fac-9065-44bc-82e9-4a110510a2c1",
   "metadata": {},
   "outputs": [
    {
     "name": "stdout",
     "output_type": "stream",
     "text": [
      "<class 'list'> <class 'list'>\n",
      "7000 3000\n"
     ]
    }
   ],
   "source": [
    "print(type(training_dataS), type(testing_dataS))\n",
    "print(len(training_dataS), len(testing_dataS))"
   ]
  },
  {
   "cell_type": "code",
   "execution_count": 63,
   "id": "d2375150-a575-45f4-bad7-96b608fbe61d",
   "metadata": {},
   "outputs": [
    {
     "name": "stdout",
     "output_type": "stream",
     "text": [
      "<class 'tuple'> <class 'tuple'>\n",
      "2 2\n"
     ]
    }
   ],
   "source": [
    "print(type(training_dataS[0]), type(testing_dataS[0]))\n",
    "print(len(training_dataS[0]), len(testing_dataS[0]))"
   ]
  },
  {
   "cell_type": "code",
   "execution_count": 65,
   "id": "56303551-5dcf-4e3b-87a4-3b5a00323cca",
   "metadata": {},
   "outputs": [
    {
     "name": "stdout",
     "output_type": "stream",
     "text": [
      "<class 'numpy.ndarray'> <class 'numpy.ndarray'>\n",
      "<class 'numpy.ndarray'> <class 'numpy.int64'>\n"
     ]
    }
   ],
   "source": [
    "print(type(training_dataS[0][0]), type(testing_dataS[0][0]))\n",
    "print(type(training_dataS[0][1]), type(testing_dataS[0][1]))"
   ]
  },
  {
   "cell_type": "code",
   "execution_count": 67,
   "id": "bd0a1ec4-48be-49c9-a333-8a58539e9bd4",
   "metadata": {},
   "outputs": [
    {
     "name": "stdout",
     "output_type": "stream",
     "text": [
      "(178, 1) (178, 1)\n",
      "(5, 1) ()\n"
     ]
    }
   ],
   "source": [
    "print((training_dataS[0][0].shape), (testing_dataS[0][0].shape))\n",
    "print((training_dataS[0][1].shape), (testing_dataS[0][1].shape))"
   ]
  },
  {
   "cell_type": "code",
   "execution_count": 69,
   "id": "3503f2c6-0fcc-4dbd-9589-b113f2b5d8f9",
   "metadata": {},
   "outputs": [],
   "source": [
    "# For Binary Classification\n",
    "# Non-seizure classes 2, 3, 4, 5 replaced by 0\n",
    "# Seizure - class 1"
   ]
  },
  {
   "cell_type": "code",
   "execution_count": 71,
   "id": "55a33669-2371-40d4-8da1-179ce867bc99",
   "metadata": {},
   "outputs": [],
   "source": [
    "x_trainB, y_trainB, x_valB, y_valB = edl.Binary_Classification_Restructure()"
   ]
  },
  {
   "cell_type": "code",
   "execution_count": 72,
   "id": "96826ad6-2d0c-441e-878a-0fd13156069d",
   "metadata": {},
   "outputs": [
    {
     "name": "stdout",
     "output_type": "stream",
     "text": [
      "<class 'numpy.ndarray'> <class 'numpy.ndarray'> <class 'numpy.ndarray'> <class 'numpy.ndarray'>\n",
      "(11120, 178) (11120,) (3000, 178) (3000,)\n"
     ]
    }
   ],
   "source": [
    "print(type(x_trainB), type(y_trainB), type(x_valB), type(y_valB))\n",
    "print(x_trainB.shape, y_trainB.shape, x_valB.shape, y_valB.shape)"
   ]
  },
  {
   "cell_type": "code",
   "execution_count": 75,
   "id": "262894db-66cd-4cab-b072-08fd46b368c2",
   "metadata": {},
   "outputs": [],
   "source": [
    "# smoteenn increases total number of instances from 7000 to 10,995"
   ]
  },
  {
   "cell_type": "code",
   "execution_count": 77,
   "id": "7a96a2fb-c83c-4c1e-8b24-7f08615649b1",
   "metadata": {},
   "outputs": [],
   "source": [
    "# Binary_Clf_NN - returns training_data and testing_data in same format as restructure_data\n",
    "# except Second array of each tuple has shape(2, 1) representing the category of the first array. It has value 1 at index=(class-1) and 0 for the rest. \n",
    "# with Non-sizure classes 2, 3, 4, 5 replaced by 0 \n",
    "# Class imbalace handled"
   ]
  },
  {
   "cell_type": "code",
   "execution_count": 3,
   "id": "24c04382-ea46-4d25-b90f-4eae5425169e",
   "metadata": {},
   "outputs": [],
   "source": [
    "training_dataB, testing_dataB = edl.Binary_Clf_NN()"
   ]
  },
  {
   "cell_type": "code",
   "execution_count": 4,
   "id": "8b2517fd-9182-405e-8745-fd2104782684",
   "metadata": {},
   "outputs": [
    {
     "name": "stdout",
     "output_type": "stream",
     "text": [
      "<class 'list'> <class 'list'>\n",
      "10885 3000\n"
     ]
    }
   ],
   "source": [
    "print(type(training_dataB), type(testing_dataB))\n",
    "print(len(training_dataB), len(testing_dataB))"
   ]
  },
  {
   "cell_type": "code",
   "execution_count": 5,
   "id": "cb8f2ad0-ef3b-4009-8c0e-9403688828bc",
   "metadata": {},
   "outputs": [
    {
     "name": "stdout",
     "output_type": "stream",
     "text": [
      "<class 'tuple'> <class 'tuple'>\n",
      "2 2\n"
     ]
    }
   ],
   "source": [
    "print(type(training_dataB[0]), type(testing_dataB[0]))\n",
    "print(len(training_dataB[0]), len(testing_dataB[0]))"
   ]
  },
  {
   "cell_type": "code",
   "execution_count": 6,
   "id": "54bc9845-be62-4221-8d2e-e280341201ea",
   "metadata": {},
   "outputs": [
    {
     "name": "stdout",
     "output_type": "stream",
     "text": [
      "<class 'numpy.ndarray'> <class 'numpy.ndarray'>\n",
      "<class 'numpy.ndarray'> <class 'numpy.int64'>\n"
     ]
    }
   ],
   "source": [
    "print(type(training_dataB[0][0]), type(testing_dataB[0][0]))\n",
    "print(type(training_dataB[0][1]), type(testing_dataB[0][1]))"
   ]
  },
  {
   "cell_type": "code",
   "execution_count": 7,
   "id": "69331f59-85ff-44a6-b834-ab13fb706836",
   "metadata": {},
   "outputs": [
    {
     "name": "stdout",
     "output_type": "stream",
     "text": [
      "(178, 1) (178, 1)\n",
      "(2, 1) ()\n"
     ]
    }
   ],
   "source": [
    "print(training_dataB[0][0].shape, testing_dataB[0][0].shape)\n",
    "print(training_dataB[0][1].shape, testing_dataB[0][1].shape)"
   ]
  },
  {
   "cell_type": "code",
   "execution_count": 89,
   "id": "6530106d-61ca-4ba8-a055-e58a36f10f1d",
   "metadata": {},
   "outputs": [],
   "source": [
    "# Binary_NN_scaled - returning scaled training_data and scaled testing_data \n",
    "# Structure same as Binary_Clf_NN "
   ]
  },
  {
   "cell_type": "code",
   "execution_count": 13,
   "id": "3bb8ebab-3964-44cc-8534-19f7e4935068",
   "metadata": {},
   "outputs": [],
   "source": [
    "training_dataS, testing_dataS = edl.Binary_NN_scaled()"
   ]
  },
  {
   "cell_type": "code",
   "execution_count": 92,
   "id": "e6709533-565a-4054-a717-b64e5013d26f",
   "metadata": {},
   "outputs": [
    {
     "name": "stdout",
     "output_type": "stream",
     "text": [
      "<class 'list'> <class 'list'>\n",
      "10922 3000\n"
     ]
    }
   ],
   "source": [
    "print(type(training_dataS), type(testing_dataS))\n",
    "print(len(training_dataS), len(testing_dataS))"
   ]
  },
  {
   "cell_type": "code",
   "execution_count": 93,
   "id": "12d19ab2-7a0a-45d8-9e01-4feb649a21dc",
   "metadata": {},
   "outputs": [
    {
     "name": "stdout",
     "output_type": "stream",
     "text": [
      "<class 'tuple'> <class 'tuple'>\n",
      "2 2\n"
     ]
    }
   ],
   "source": [
    "print(type(training_dataB[0]), type(testing_dataB[0]))\n",
    "print(len(training_dataB[0]), len(testing_dataB[0]))"
   ]
  },
  {
   "cell_type": "code",
   "execution_count": 97,
   "id": "0ea7ceaf-106a-480d-92b6-a3f12b7f5607",
   "metadata": {},
   "outputs": [
    {
     "name": "stdout",
     "output_type": "stream",
     "text": [
      "<class 'numpy.ndarray'> <class 'numpy.ndarray'>\n",
      "<class 'numpy.ndarray'> <class 'numpy.int64'>\n"
     ]
    }
   ],
   "source": [
    "print(type(training_dataB[0][0]), type(testing_dataB[0][0]))\n",
    "print(type(training_dataB[0][1]), type(testing_dataB[0][1]))"
   ]
  },
  {
   "cell_type": "code",
   "execution_count": 15,
   "id": "d5841232-b8e6-4b13-891f-04f14f0a1600",
   "metadata": {},
   "outputs": [
    {
     "name": "stdout",
     "output_type": "stream",
     "text": [
      "(178, 1) (178, 1)\n",
      "(2, 1) ()\n"
     ]
    }
   ],
   "source": [
    "print(training_dataB[0][0].shape, testing_dataB[0][0].shape)\n",
    "print(training_dataB[0][1].shape, testing_dataB[0][1].shape)"
   ]
  }
 ],
 "metadata": {
  "kernelspec": {
   "display_name": "Python 3 (ipykernel)",
   "language": "python",
   "name": "python3"
  },
  "language_info": {
   "codemirror_mode": {
    "name": "ipython",
    "version": 3
   },
   "file_extension": ".py",
   "mimetype": "text/x-python",
   "name": "python",
   "nbconvert_exporter": "python",
   "pygments_lexer": "ipython3",
   "version": "3.12.4"
  }
 },
 "nbformat": 4,
 "nbformat_minor": 5
}
