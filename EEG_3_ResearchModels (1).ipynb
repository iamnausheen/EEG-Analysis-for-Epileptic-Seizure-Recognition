{
 "cells": [
  {
   "cell_type": "code",
   "execution_count": 1,
   "id": "fcd20756-da24-412b-be0c-ce7c46c612e7",
   "metadata": {},
   "outputs": [],
   "source": [
    "import numpy as np\n",
    "import pandas as pd\n",
    "from sklearn.linear_model import LogisticRegression\n",
    "from sklearn.tree import DecisionTreeClassifier\n",
    "from sklearn.naive_bayes import GaussianNB\n",
    "from sklearn.metrics import accuracy_score"
   ]
  },
  {
   "cell_type": "code",
   "execution_count": 2,
   "id": "f5b92cbc-227c-4273-9da6-9981ae0fa775",
   "metadata": {},
   "outputs": [
    {
     "name": "stdout",
     "output_type": "stream",
     "text": [
      "1.26.4\n"
     ]
    }
   ],
   "source": [
    "print(np.__version__)"
   ]
  },
  {
   "cell_type": "code",
   "execution_count": 3,
   "id": "a9fe78be-fdc3-4cc3-83b4-0de93a270c80",
   "metadata": {},
   "outputs": [
    {
     "name": "stdout",
     "output_type": "stream",
     "text": [
      "2.2.2\n"
     ]
    }
   ],
   "source": [
    "print(pd.__version__)"
   ]
  },
  {
   "cell_type": "code",
   "execution_count": 5,
   "id": "185e548e-d491-42a0-9e3e-787ddbf26464",
   "metadata": {},
   "outputs": [],
   "source": [
    "import eeg_dataloader"
   ]
  },
  {
   "cell_type": "code",
   "execution_count": 6,
   "id": "2fae8b4e-fba0-404a-b62c-f1a56c169ca1",
   "metadata": {},
   "outputs": [],
   "source": [
    "x_trainB, y_trainB, x_valB, y_valB= eeg_dataloader.Binary_Classification_Restructure()"
   ]
  },
  {
   "cell_type": "code",
   "execution_count": 7,
   "id": "7af69f63-8c0c-4cf4-9658-2c535eababbf",
   "metadata": {},
   "outputs": [
    {
     "name": "stdout",
     "output_type": "stream",
     "text": [
      "(10865, 178) (10865,) (3000, 178) (3000,)\n"
     ]
    }
   ],
   "source": [
    "print(x_trainB.shape, y_trainB.shape, x_valB.shape, y_valB.shape)"
   ]
  },
  {
   "cell_type": "code",
   "execution_count": 35,
   "id": "3ff87be4-7289-4901-aeab-2a096b0afd4e",
   "metadata": {},
   "outputs": [],
   "source": [
    "models = []\n",
    "accuracies = []\n",
    "\n",
    "models_s = []\n",
    "accuracies_s = []"
   ]
  },
  {
   "cell_type": "code",
   "execution_count": 36,
   "id": "2909a1a0-adda-4c18-9a43-7321cb655691",
   "metadata": {},
   "outputs": [
    {
     "name": "stdout",
     "output_type": "stream",
     "text": [
      "LogisticRegression(max_iter=3000)\n",
      "70.8333%\n",
      ".............................................\n",
      "DecisionTreeClassifier()\n",
      "90.8333%\n",
      ".............................................\n",
      "GaussianNB()\n",
      "95.8000%\n",
      ".............................................\n"
     ]
    }
   ],
   "source": [
    "classifiers = {\n",
    "    \"Logistic Regression\": LogisticRegression(max_iter = 3000),\n",
    "    \"Decision Tree\": DecisionTreeClassifier(),\n",
    "    \"Naive Bayes\": GaussianNB()\n",
    "}\n",
    "\n",
    "for name, clf in classifiers.items():\n",
    "    models.append(clf)\n",
    "    clf.fit(x_trainB, y_trainB)\n",
    "    predictions = clf.predict(x_valB)\n",
    "    accuracy = accuracy_score(y_valB, predictions)\n",
    "    accuracies.append(accuracy)\n",
    "    print(f\"{clf}\")\n",
    "    print(f\"{accuracy*100:.4f}%\")\n",
    "    print(\".............................................\")"
   ]
  },
  {
   "cell_type": "code",
   "execution_count": 37,
   "id": "47291a75-fd0b-4435-8bb0-ce7af355198e",
   "metadata": {},
   "outputs": [],
   "source": [
    "# Scaling \n",
    "from sklearn.preprocessing import StandardScaler\n",
    "\n",
    "scaler = StandardScaler()\n",
    "x_trainS = scaler.fit_transform(x_trainB)\n",
    "x_valS = scaler.transform(x_valB)"
   ]
  },
  {
   "cell_type": "code",
   "execution_count": 38,
   "id": "cf22276c-b3e1-43b0-b2cc-52ed37ecd4d9",
   "metadata": {},
   "outputs": [
    {
     "name": "stdout",
     "output_type": "stream",
     "text": [
      "LogisticRegression(max_iter=3000)\n",
      "73.1333%\n",
      ".............................................\n",
      "DecisionTreeClassifier()\n",
      "90.7667%\n",
      ".............................................\n",
      "GaussianNB()\n",
      "95.8000%\n",
      ".............................................\n"
     ]
    }
   ],
   "source": [
    "classifiers = {\n",
    "    \"Logistic Regression\": LogisticRegression(max_iter = 3000),\n",
    "    \"Decision Tree\": DecisionTreeClassifier(),\n",
    "    \"Naive Bayes\": GaussianNB()\n",
    "}\n",
    "\n",
    "for name, clf in classifiers.items():\n",
    "    models_s.append(clf)\n",
    "    clf.fit(x_trainS, y_trainB)\n",
    "    predictions = clf.predict(x_valS)\n",
    "    accuracy = accuracy_score(y_valB, predictions)\n",
    "    accuracies_s.append(accuracy)\n",
    "    print(f\"{clf}\")\n",
    "    print(f\"{accuracy*100:.4f}%\")\n",
    "    print(\".............................................\")"
   ]
  },
  {
   "cell_type": "code",
   "execution_count": 39,
   "id": "49d78eb0-bd92-4aa8-9677-d1c642a9bf83",
   "metadata": {},
   "outputs": [],
   "source": [
    "# AdaBoost"
   ]
  },
  {
   "cell_type": "code",
   "execution_count": 40,
   "id": "8fb55a0f-948a-4395-be57-7308a5a67559",
   "metadata": {},
   "outputs": [],
   "source": [
    "# Adaboost - Decision Tree"
   ]
  },
  {
   "cell_type": "code",
   "execution_count": 41,
   "id": "56dd993d-9c66-4271-b770-b29623bf3d66",
   "metadata": {},
   "outputs": [],
   "source": [
    "from sklearn.ensemble import AdaBoostClassifier"
   ]
  },
  {
   "cell_type": "code",
   "execution_count": 42,
   "id": "49add8b4-7773-4eec-a226-8289879a20b2",
   "metadata": {},
   "outputs": [
    {
     "name": "stderr",
     "output_type": "stream",
     "text": [
      "C:\\Users\\mcss\\anaconda3\\Lib\\site-packages\\sklearn\\ensemble\\_weight_boosting.py:519: FutureWarning: The SAMME.R algorithm (the default) is deprecated and will be removed in 1.6. Use the SAMME algorithm to circumvent this warning.\n",
      "  warnings.warn(\n"
     ]
    },
    {
     "name": "stdout",
     "output_type": "stream",
     "text": [
      "Accuracy = 96.0000%\n"
     ]
    }
   ],
   "source": [
    "models.append(\"AdaBoost_DT\")\n",
    "base_clf_dt = DecisionTreeClassifier(max_depth = 10)\n",
    "adaboost_dt = AdaBoostClassifier(estimator=base_clf_dt, learning_rate=0.7, random_state=5)\n",
    "adaboost_dt.fit(x_trainB, y_trainB)\n",
    "\n",
    "predictions_dt = adaboost_dt.predict(x_valB)\n",
    "\n",
    "accuracy_dt = accuracy_score(y_valB, predictions_dt)\n",
    "print(f\"Accuracy = {accuracy_dt*100:.4f}%\") \n",
    "accuracies.append(accuracy_dt)"
   ]
  },
  {
   "cell_type": "code",
   "execution_count": 43,
   "id": "126e80b9-f305-486d-9c37-056a6b455248",
   "metadata": {},
   "outputs": [
    {
     "name": "stderr",
     "output_type": "stream",
     "text": [
      "C:\\Users\\mcss\\anaconda3\\Lib\\site-packages\\sklearn\\ensemble\\_weight_boosting.py:519: FutureWarning: The SAMME.R algorithm (the default) is deprecated and will be removed in 1.6. Use the SAMME algorithm to circumvent this warning.\n",
      "  warnings.warn(\n"
     ]
    },
    {
     "name": "stdout",
     "output_type": "stream",
     "text": [
      "Accuracy = 96.0000%\n"
     ]
    }
   ],
   "source": [
    "base_clf_dt_s = DecisionTreeClassifier(max_depth = 10)\n",
    "adaboost_dt_s = AdaBoostClassifier(estimator=base_clf_dt_s, learning_rate=0.7, random_state=1)\n",
    "adaboost_dt_s.fit(x_trainS, y_trainB)\n",
    "\n",
    "predictions_dt_s = adaboost_dt_s.predict(x_valS)\n",
    "\n",
    "accuracy_dt_s = accuracy_score(y_valB, predictions_dt_s)\n",
    "print(f\"Accuracy = {accuracy_dt*100:.4f}%\")\n",
    "accuracies_s.append(accuracy_dt_s)"
   ]
  },
  {
   "cell_type": "code",
   "execution_count": 44,
   "id": "94672ede-a79f-4803-b6ed-996e916f1355",
   "metadata": {},
   "outputs": [],
   "source": [
    "# Ada Boost - Naive Bayes"
   ]
  },
  {
   "cell_type": "code",
   "execution_count": 45,
   "id": "1cf81b32-f356-4956-83fc-214ed1507383",
   "metadata": {},
   "outputs": [
    {
     "name": "stderr",
     "output_type": "stream",
     "text": [
      "C:\\Users\\mcss\\anaconda3\\Lib\\site-packages\\sklearn\\ensemble\\_weight_boosting.py:519: FutureWarning: The SAMME.R algorithm (the default) is deprecated and will be removed in 1.6. Use the SAMME algorithm to circumvent this warning.\n",
      "  warnings.warn(\n"
     ]
    },
    {
     "name": "stdout",
     "output_type": "stream",
     "text": [
      "Accuracy = 93.9667%\n"
     ]
    }
   ],
   "source": [
    "models.append(\"AdaBoost_NB\")\n",
    "base_clf_nb = GaussianNB()\n",
    "adaboost_nb = AdaBoostClassifier(estimator=base_clf_nb, n_estimators=1000, random_state=3)\n",
    "adaboost_nb.fit(x_trainB, y_trainB)\n",
    "\n",
    "predictions_nb = adaboost_nb.predict(x_valB)\n",
    "\n",
    "accuracy_nb = accuracy_score(y_valB, predictions_nb)\n",
    "print(f\"Accuracy = {accuracy_nb*100:.4f}%\")\n",
    "\n",
    "accuracies.append(accuracy_nb)"
   ]
  },
  {
   "cell_type": "code",
   "execution_count": 46,
   "id": "6013acb9-46a9-4919-9ec8-0d827b478d23",
   "metadata": {},
   "outputs": [
    {
     "name": "stderr",
     "output_type": "stream",
     "text": [
      "C:\\Users\\mcss\\anaconda3\\Lib\\site-packages\\sklearn\\ensemble\\_weight_boosting.py:519: FutureWarning: The SAMME.R algorithm (the default) is deprecated and will be removed in 1.6. Use the SAMME algorithm to circumvent this warning.\n",
      "  warnings.warn(\n"
     ]
    },
    {
     "name": "stdout",
     "output_type": "stream",
     "text": [
      "Accuracy = 93.9667%\n"
     ]
    }
   ],
   "source": [
    "base_clf_nb_s = GaussianNB()\n",
    "adaboost_nb_s = AdaBoostClassifier(estimator=base_clf_nb_s, n_estimators=1000, random_state=4)\n",
    "adaboost_nb_s.fit(x_trainS, y_trainB)\n",
    "\n",
    "predictions_nb_s = adaboost_nb_s.predict(x_valS)\n",
    "\n",
    "accuracy_nb_s = accuracy_score(y_valB, predictions_nb_s)\n",
    "print(f\"Accuracy = {accuracy_nb*100:.4f}%\")\n",
    "\n",
    "accuracies_s.append(accuracy_nb_s)"
   ]
  },
  {
   "cell_type": "code",
   "execution_count": 47,
   "id": "d413cfc2-0031-4c0c-bf1c-4d580fe8cd82",
   "metadata": {},
   "outputs": [],
   "source": [
    "# Neural Network"
   ]
  },
  {
   "cell_type": "code",
   "execution_count": 48,
   "id": "6737f916-f14b-4411-ad59-3296fde21f7b",
   "metadata": {},
   "outputs": [],
   "source": [
    "import random"
   ]
  },
  {
   "cell_type": "code",
   "execution_count": 49,
   "id": "de899706-008a-4a83-897d-b07ba3a2a4b1",
   "metadata": {},
   "outputs": [],
   "source": [
    "class Network():\n",
    "    def __init__(self, sizes):\n",
    "        self.num_layers = len(sizes)\n",
    "        self.weights = [np.random.randn(y, x) for y, x in zip(sizes[1:], sizes[:-1])]\n",
    "        self.biases = [np.random.randn(x, 1) for x in sizes[1: ]]\n",
    "\n",
    "    def SGD(self, training_data, n_epochs, mini_batch_size, learning_rate, test_data):\n",
    "        n = len(training_data)\n",
    "        for i in range(n_epochs):\n",
    "            random.shuffle(training_data)\n",
    "            mini_batches = [training_data[k:k+mini_batch_size] for k in range(0, n, mini_batch_size)]\n",
    "            for mini_batch in mini_batches:\n",
    "                self.update_w_b(mini_batch, learning_rate)\n",
    "            print(f\"epoch{i} : {self.accuracy(test_data):.4f}\")\n",
    "\n",
    "    def update_w_b(self, mini_batch, learning_rate):\n",
    "        gradsum_w = [np.zeros((w.shape)) for w in self.weights]\n",
    "        gradsum_b = [np.zeros((b.shape)) for b in self.biases]\n",
    "\n",
    "        for x, y in mini_batch:\n",
    "            grad_w, grad_b = self.backprop(x, y)\n",
    "            gradsum_w = [gsw + gw for gsw, gw in zip(gradsum_w, grad_w)]\n",
    "            gradsum_b = [gsb + gb for gsb, gb in zip(gradsum_b, grad_b)]\n",
    "\n",
    "        self.weights = [w - (learning_rate/len(mini_batch))*gsw for w, gsw in zip(self.weights, gradsum_w)]\n",
    "        self.biases = [b - (learning_rate/len(mini_batch))*gsb for b, gsb in zip(self.biases, gradsum_b)]\n",
    "\n",
    "    def backprop(self, x, y):\n",
    "        grad_w = [np.zeros(w.shape) for w in self.weights]\n",
    "        grad_b = [np.zeros(b.shape) for b in self.biases]\n",
    "\n",
    "        activation = x\n",
    "        activations = [x]\n",
    "        z_layer = []\n",
    "\n",
    "        for w, b in zip(self.weights, self.biases):\n",
    "            z = np.dot(w, activation) + b\n",
    "            z_layer.append(z)\n",
    "            activation = sigmoid(z)\n",
    "            activations.append(activation)\n",
    "\n",
    "        delta = self.cost_derivative(activations[-1], y)*sigmoid_prime(z_layer[-1])\n",
    "        grad_w[-1] = np.dot(delta, activations[-2].T)\n",
    "        grad_b[-1] = delta\n",
    "\n",
    "        for l in range(2, self.num_layers):\n",
    "            z = z_list[-l]\n",
    "            sp = sigmoid_prime(z)\n",
    "            delta = np.dot(self.weights[-l+1].T, delta)*sp\n",
    "            grad_w[-l] = np.dot(delta, activations[-l-1].T)\n",
    "            grad_b[-l] = delta\n",
    "\n",
    "        return (grad_w, grad_b)\n",
    "\n",
    "    def cost_derivative(self, output_activations, y):\n",
    "        return (output_activations-y)\n",
    "    \n",
    "    def feedforward(self, a):\n",
    "        for w, b in zip(self.weights, self.biases):\n",
    "            activations = sigmoid(np.dot(w, a) + b)\n",
    "        return activations\n",
    "        \n",
    "    def accuracy(self, test_data):\n",
    "        test_results = [(np.argmax(self.feedforward(x)), y) for x, y in test_data]\n",
    "        n_test = len(test_data)\n",
    "        total = sum(int(x==y) for (x, y) in test_results)\n",
    "        return (total/n_test)*100           \n",
    "\n",
    "def sigmoid(z):\n",
    "    return 1.0/(1.0 + np.exp(z))\n",
    "\n",
    "def sigmoid_prime(z):\n",
    "    return sigmoid(z)*(1.0 - sigmoid(z))"
   ]
  },
  {
   "cell_type": "code",
   "execution_count": 50,
   "id": "942d8bf7-e084-4578-b87f-922238820038",
   "metadata": {},
   "outputs": [],
   "source": [
    "training_data, testing_data = eeg_dataloader.Binary_Clf_NN()"
   ]
  },
  {
   "cell_type": "code",
   "execution_count": 51,
   "id": "5f805019-b121-4577-b4d1-6e04b1de6f0d",
   "metadata": {},
   "outputs": [
    {
     "name": "stderr",
     "output_type": "stream",
     "text": [
      "C:\\Users\\mcss\\AppData\\Local\\Temp\\ipykernel_8436\\1383488581.py:70: RuntimeWarning: overflow encountered in exp\n",
      "  return 1.0/(1.0 + np.exp(z))\n"
     ]
    },
    {
     "name": "stdout",
     "output_type": "stream",
     "text": [
      "epoch0 : 58.5333\n",
      "epoch1 : 58.6000\n",
      "epoch2 : 58.6333\n",
      "epoch3 : 58.6000\n",
      "epoch4 : 58.5000\n",
      "epoch5 : 58.6667\n",
      "epoch6 : 58.5333\n",
      "epoch7 : 58.5667\n",
      "epoch8 : 58.5667\n",
      "epoch9 : 58.6333\n",
      "epoch10 : 58.5667\n",
      "epoch11 : 58.5667\n",
      "epoch12 : 58.6000\n",
      "epoch13 : 58.6000\n",
      "epoch14 : 58.5333\n",
      "epoch15 : 58.6000\n",
      "epoch16 : 58.4333\n",
      "epoch17 : 58.3667\n",
      "epoch18 : 58.4000\n",
      "epoch19 : 58.6333\n",
      "epoch20 : 58.5000\n",
      "epoch21 : 58.5333\n",
      "epoch22 : 58.4333\n",
      "epoch23 : 58.5000\n",
      "epoch24 : 58.4667\n",
      "epoch25 : 58.4000\n",
      "epoch26 : 58.4000\n",
      "epoch27 : 58.4667\n",
      "epoch28 : 58.4333\n",
      "epoch29 : 58.4667\n"
     ]
    }
   ],
   "source": [
    "net = Network([178, 2])\n",
    "net.SGD(training_data, n_epochs=30, mini_batch_size=10, learning_rate=0.001, test_data=testing_data)"
   ]
  },
  {
   "cell_type": "code",
   "execution_count": 52,
   "id": "4b38371c-9562-43cf-bec6-06444ed77dca",
   "metadata": {},
   "outputs": [],
   "source": [
    "training_dataS, testing_dataS = eeg_dataloader.Binary_NN_scaled()"
   ]
  },
  {
   "cell_type": "code",
   "execution_count": 53,
   "id": "bd617e26-6179-4341-b3ad-182c279d8895",
   "metadata": {},
   "outputs": [
    {
     "name": "stdout",
     "output_type": "stream",
     "text": [
      "epoch0 : 85.0333\n",
      "epoch1 : 85.0667\n",
      "epoch2 : 84.8667\n",
      "epoch3 : 84.8000\n",
      "epoch4 : 84.3000\n"
     ]
    },
    {
     "name": "stderr",
     "output_type": "stream",
     "text": [
      "C:\\Users\\mcss\\AppData\\Local\\Temp\\ipykernel_8436\\1383488581.py:70: RuntimeWarning: overflow encountered in exp\n",
      "  return 1.0/(1.0 + np.exp(z))\n"
     ]
    },
    {
     "name": "stdout",
     "output_type": "stream",
     "text": [
      "epoch5 : 84.3333\n",
      "epoch6 : 84.7333\n",
      "epoch7 : 84.1000\n",
      "epoch8 : 84.4333\n",
      "epoch9 : 84.3000\n",
      "epoch10 : 84.4333\n",
      "epoch11 : 84.4000\n",
      "epoch12 : 84.3667\n",
      "epoch13 : 84.0333\n",
      "epoch14 : 84.2667\n",
      "epoch15 : 84.0333\n",
      "epoch16 : 84.5667\n",
      "epoch17 : 84.4333\n",
      "epoch18 : 84.4333\n",
      "epoch19 : 84.8000\n",
      "epoch20 : 84.5000\n",
      "epoch21 : 84.0000\n",
      "epoch22 : 83.8667\n",
      "epoch23 : 84.0333\n",
      "epoch24 : 83.9667\n",
      "epoch25 : 84.0333\n",
      "epoch26 : 84.0333\n",
      "epoch27 : 83.9333\n",
      "epoch28 : 84.3000\n",
      "epoch29 : 84.0667\n"
     ]
    }
   ],
   "source": [
    "net = Network([178, 2])\n",
    "net.SGD(training_dataS, n_epochs=30, mini_batch_size=10, learning_rate=10.0, test_data=testing_dataS)"
   ]
  },
  {
   "cell_type": "code",
   "execution_count": 54,
   "id": "60dce606-0ade-4117-91af-e800a8654a57",
   "metadata": {},
   "outputs": [],
   "source": [
    "models.append(\"Neural Network\")\n",
    "accuracies.append((56.9+54.1333)/200)\n",
    "accuracies_s.append((85.1667+83.7333)/200)"
   ]
  },
  {
   "cell_type": "code",
   "execution_count": 55,
   "id": "bff7bea4-cd1d-4c78-90df-0f84c82c2451",
   "metadata": {},
   "outputs": [
    {
     "name": "stdout",
     "output_type": "stream",
     "text": [
      "[LogisticRegression(max_iter=3000), DecisionTreeClassifier(), GaussianNB(), 'AdaBoost_DT', 'AdaBoost_NB', 'Neural Network']\n",
      "[0.7083333333333334, 0.9083333333333333, 0.958, 0.96, 0.9396666666666667, 0.5551665]\n",
      "[0.7313333333333333, 0.9076666666666666, 0.958, 0.9633333333333334, 0.9436666666666667, 0.8445]\n"
     ]
    }
   ],
   "source": [
    "print(models)\n",
    "print(accuracies)\n",
    "print(accuracies_s)\n"
   ]
  },
  {
   "cell_type": "code",
   "execution_count": null,
   "id": "ea8b45e3-4fa2-4c08-9323-0859a2fbcc36",
   "metadata": {},
   "outputs": [],
   "source": [
    "models.remove(\"Neural Network\")\n",
    "accuracies.remove()\n",
    "accuracies_s.remove()"
   ]
  },
  {
   "cell_type": "code",
   "execution_count": 56,
   "id": "1189136e-988a-4cd5-bba1-3dffbcefb282",
   "metadata": {},
   "outputs": [
    {
     "data": {
      "text/html": [
       "<style type=\"text/css\">\n",
       "#T_4200e_row0_col0, #T_4200e_row0_col1, #T_4200e_row0_col2, #T_4200e_row1_col0, #T_4200e_row1_col1, #T_4200e_row1_col2, #T_4200e_row2_col0, #T_4200e_row2_col1, #T_4200e_row2_col2, #T_4200e_row3_col0, #T_4200e_row3_col1, #T_4200e_row3_col2, #T_4200e_row4_col0, #T_4200e_row4_col1, #T_4200e_row4_col2, #T_4200e_row5_col0, #T_4200e_row5_col1, #T_4200e_row5_col2 {\n",
       "  max_width: 200px;\n",
       "}\n",
       "</style>\n",
       "<table id=\"T_4200e\">\n",
       "  <thead>\n",
       "    <tr>\n",
       "      <th class=\"blank level0\" >&nbsp;</th>\n",
       "      <th id=\"T_4200e_level0_col0\" class=\"col_heading level0 col0\" >MODEL</th>\n",
       "      <th id=\"T_4200e_level0_col1\" class=\"col_heading level0 col1\" >ACCURACY</th>\n",
       "      <th id=\"T_4200e_level0_col2\" class=\"col_heading level0 col2\" >ACCURACY_S</th>\n",
       "    </tr>\n",
       "  </thead>\n",
       "  <tbody>\n",
       "    <tr>\n",
       "      <th id=\"T_4200e_level0_row0\" class=\"row_heading level0 row0\" >0</th>\n",
       "      <td id=\"T_4200e_row0_col0\" class=\"data row0 col0\" >LogisticRegression(max_iter=3000)</td>\n",
       "      <td id=\"T_4200e_row0_col1\" class=\"data row0 col1\" >0.708333</td>\n",
       "      <td id=\"T_4200e_row0_col2\" class=\"data row0 col2\" >0.731333</td>\n",
       "    </tr>\n",
       "    <tr>\n",
       "      <th id=\"T_4200e_level0_row1\" class=\"row_heading level0 row1\" >1</th>\n",
       "      <td id=\"T_4200e_row1_col0\" class=\"data row1 col0\" >DecisionTreeClassifier()</td>\n",
       "      <td id=\"T_4200e_row1_col1\" class=\"data row1 col1\" >0.908333</td>\n",
       "      <td id=\"T_4200e_row1_col2\" class=\"data row1 col2\" >0.907667</td>\n",
       "    </tr>\n",
       "    <tr>\n",
       "      <th id=\"T_4200e_level0_row2\" class=\"row_heading level0 row2\" >2</th>\n",
       "      <td id=\"T_4200e_row2_col0\" class=\"data row2 col0\" >GaussianNB()</td>\n",
       "      <td id=\"T_4200e_row2_col1\" class=\"data row2 col1\" >0.958000</td>\n",
       "      <td id=\"T_4200e_row2_col2\" class=\"data row2 col2\" >0.958000</td>\n",
       "    </tr>\n",
       "    <tr>\n",
       "      <th id=\"T_4200e_level0_row3\" class=\"row_heading level0 row3\" >3</th>\n",
       "      <td id=\"T_4200e_row3_col0\" class=\"data row3 col0\" >AdaBoost_DT</td>\n",
       "      <td id=\"T_4200e_row3_col1\" class=\"data row3 col1\" >0.960000</td>\n",
       "      <td id=\"T_4200e_row3_col2\" class=\"data row3 col2\" >0.963333</td>\n",
       "    </tr>\n",
       "    <tr>\n",
       "      <th id=\"T_4200e_level0_row4\" class=\"row_heading level0 row4\" >4</th>\n",
       "      <td id=\"T_4200e_row4_col0\" class=\"data row4 col0\" >AdaBoost_NB</td>\n",
       "      <td id=\"T_4200e_row4_col1\" class=\"data row4 col1\" >0.939667</td>\n",
       "      <td id=\"T_4200e_row4_col2\" class=\"data row4 col2\" >0.943667</td>\n",
       "    </tr>\n",
       "    <tr>\n",
       "      <th id=\"T_4200e_level0_row5\" class=\"row_heading level0 row5\" >5</th>\n",
       "      <td id=\"T_4200e_row5_col0\" class=\"data row5 col0\" >Neural Network</td>\n",
       "      <td id=\"T_4200e_row5_col1\" class=\"data row5 col1\" >0.555167</td>\n",
       "      <td id=\"T_4200e_row5_col2\" class=\"data row5 col2\" >0.844500</td>\n",
       "    </tr>\n",
       "  </tbody>\n",
       "</table>\n"
      ],
      "text/plain": [
       "<pandas.io.formats.style.Styler at 0x1be96639610>"
      ]
     },
     "execution_count": 56,
     "metadata": {},
     "output_type": "execute_result"
    }
   ],
   "source": [
    "model_evaluation = {\n",
    "    \"MODEL\":models,\n",
    "    \"ACCURACY\":accuracies,\n",
    "    \"ACCURACY_S\":accuracies_s\n",
    "}\n",
    "\n",
    "evaluation_table = pd.DataFrame(model_evaluation)\n",
    "eval_table_styled = evaluation_table.style.set_properties(**{\"max_width\":\"200px\"})\n",
    "eval_table_styled"
   ]
  },
  {
   "cell_type": "code",
   "execution_count": 57,
   "id": "6cf1317a-f872-4a3a-a9b4-484040b76556",
   "metadata": {},
   "outputs": [],
   "source": [
    "import matplotlib.pyplot as plt"
   ]
  },
  {
   "cell_type": "code",
   "execution_count": 75,
   "id": "d6c48de4-1518-40f1-86bd-a8d4e8e8ea34",
   "metadata": {},
   "outputs": [
    {
     "data": {
      "image/png": "[encoded data removed]",
      "text/plain": [
       "<Figure size 800x600 with 1 Axes>"
      ]
     },
     "metadata": {},
     "output_type": "display_data"
    }
   ],
   "source": [
    "bar_width=0.25\n",
    "num_models=len(models)\n",
    "index = np.arange(num_models)\n",
    "\n",
    "plt.figure(figsize=(8, 6))\n",
    "plt.bar(index-bar_width/2, accuracies, bar_width, label=\"Non-scaled\", color=\"black\")\n",
    "plt.bar(index+bar_width/2, accuracies_s, bar_width, label=\"Scaled\", color=\"magenta\")\n",
    "plt.xlabel(\"Models\")\n",
    "plt.ylabel(\"Accuracy\")\n",
    "plt.xticks(index, models, rotation=90)\n",
    "plt.title(\"Model Comparison\")\n",
    "plt.legend()\n",
    "plt.tight_layout()"
   ]
  },
  {
   "cell_type": "code",
   "execution_count": 59,
   "id": "dff4251e-8f97-4546-9d6a-54a652a2e0f3",
   "metadata": {},
   "outputs": [],
   "source": [
    "x_test, y_test = eeg_dataloader.testing()"
   ]
  },
  {
   "cell_type": "code",
   "execution_count": 60,
   "id": "fdf1c90e-09a0-4278-8e6a-628edebde558",
   "metadata": {},
   "outputs": [
    {
     "name": "stdout",
     "output_type": "stream",
     "text": [
      "Accuracy = 96.0000%\n"
     ]
    }
   ],
   "source": [
    "predictions_dt_s = adaboost_dt_s.predict(x_test)\n",
    "\n",
    "accuracy_dt_s = accuracy_score(y_test, predictions_dt_s)\n",
    "print(f\"Accuracy = {accuracy_dt*100:.4f}%\")"
   ]
  }
 ],
 "metadata": {
  "kernelspec": {
   "display_name": "Python 3 (ipykernel)",
   "language": "python",
   "name": "python3"
  },
  "language_info": {
   "codemirror_mode": {
    "name": "ipython",
    "version": 3
   },
   "file_extension": ".py",
   "mimetype": "text/x-python",
   "name": "python",
   "nbconvert_exporter": "python",
   "pygments_lexer": "ipython3",
   "version": "3.12.4"
  }
 },
 "nbformat": 4,
 "nbformat_minor": 5
}
